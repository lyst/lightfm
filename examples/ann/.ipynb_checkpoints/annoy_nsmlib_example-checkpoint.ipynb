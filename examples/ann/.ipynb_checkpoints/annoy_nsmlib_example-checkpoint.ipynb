{
 "cells": [
  {
   "cell_type": "markdown",
   "metadata": {},
   "source": [
    "<H1>Light FM Hybrid Model ANN example</H1>\n",
    "\n",
    "<p>In this notebook, we'll be building a hybrid LightFM model on the example movielens dataset. \n",
    "\n",
    "We'll then store the item and user vectors, and build an ANN index over these for fast querying at scale. I've used this method to produce less than 50ms response times across more than 10 million items.</p>\n",
    "\n",
    "We'll look at two popular Approxiamte Nearest Neighbours libraries, Annoy and NMSlib, and compare their performance.\n",
    "\n",
    "Firstly, let's import the data and build the Light FM model, as per the example in th docs:"
   ]
  },
  {
   "cell_type": "code",
   "execution_count": 2,
   "metadata": {
    "collapsed": true
   },
   "outputs": [],
   "source": [
    "import numpy as np\n",
    "from sklearn.metrics import pairwise_distances\n",
    "import timeit\n",
    "import time\n",
    "\n",
    "from lightfm.datasets import fetch_movielens\n",
    "\n",
    "movielens = fetch_movielens()"
   ]
  },
  {
   "cell_type": "code",
   "execution_count": 3,
   "metadata": {},
   "outputs": [
    {
     "name": "stdout",
     "output_type": "stream",
     "text": [
      "('test', <class 'scipy.sparse.coo.coo_matrix'>, (943, 1682))\n",
      "('item_features', <class 'scipy.sparse.csr.csr_matrix'>, (1682, 1682))\n",
      "('train', <class 'scipy.sparse.coo.coo_matrix'>, (943, 1682))\n",
      "('item_labels', <type 'numpy.ndarray'>, (1682,))\n",
      "('item_feature_labels', <type 'numpy.ndarray'>, (1682,))\n"
     ]
    }
   ],
   "source": [
    "for key, value in movielens.items():\n",
    "    print(key, type(value), value.shape)"
   ]
  },
  {
   "cell_type": "code",
   "execution_count": 4,
   "metadata": {
    "collapsed": true
   },
   "outputs": [],
   "source": [
    "train = movielens['train']\n",
    "test = movielens['test']"
   ]
  },
  {
   "cell_type": "code",
   "execution_count": 5,
   "metadata": {},
   "outputs": [
    {
     "name": "stdout",
     "output_type": "stream",
     "text": [
      "Precision: train 0.74, test 0.09.\n",
      "AUC: train 0.97, test 0.91.\n"
     ]
    }
   ],
   "source": [
    "from lightfm import LightFM\n",
    "from lightfm.evaluation import precision_at_k\n",
    "from lightfm.evaluation import auc_score\n",
    "\n",
    "model = LightFM(learning_rate=0.05, loss='warp', no_components=64, item_alpha=0.001)\n",
    "\n",
    "model.fit_partial(train, item_features=movielens['item_features'], epochs=20 )\n",
    "\n",
    "train_precision = precision_at_k(model, train, k=10).mean()\n",
    "test_precision = precision_at_k(model, test, k=10).mean()\n",
    "\n",
    "train_auc = auc_score(model, train).mean()\n",
    "test_auc = auc_score(model, test).mean()\n",
    "\n",
    "print('Precision: train %.2f, test %.2f.' % (train_precision, test_precision))\n",
    "print('AUC: train %.2f, test %.2f.' % (train_auc, test_auc))"
   ]
  },
  {
   "cell_type": "markdown",
   "metadata": {},
   "source": [
    "We can get the item vectors by simply multiplying the item features by the models item feature embeddings:"
   ]
  },
  {
   "cell_type": "code",
   "execution_count": 7,
   "metadata": {},
   "outputs": [],
   "source": [
    "item_vectors = movielens['item_features'] * model.get_item_representations()[1]"
   ]
  },
  {
   "cell_type": "markdown",
   "metadata": {},
   "source": [
    "Now let's make an annoy index for item to item querying:"
   ]
  },
  {
   "cell_type": "code",
   "execution_count": 9,
   "metadata": {},
   "outputs": [
    {
     "data": {
      "text/plain": [
       "True"
      ]
     },
     "execution_count": 9,
     "metadata": {},
     "output_type": "execute_result"
    }
   ],
   "source": [
    "from annoy import AnnoyIndex\n",
    "\n",
    "f = item_vectors.shape[1] # Length of item vector that will be indexed\n",
    "t = AnnoyIndex(f)  \n",
    "for i in range(item_vectors.shape[0]):\n",
    "    v = item_vectors[i]\n",
    "    t.add_item(i, v)\n",
    "\n",
    "t.build(10) # 10 trees\n",
    "t.save('movielens_item_Annoy_idx.ann')"
   ]
  },
  {
   "cell_type": "markdown",
   "metadata": {},
   "source": [
    "And query the index for similar movies:"
   ]
  },
  {
   "cell_type": "code",
   "execution_count": 10,
   "metadata": {},
   "outputs": [],
   "source": [
    "def nearest_movies_Annoy(movie_id, index, n=10, print_output=True):\n",
    "    nn = index.get_nns_by_item(movie_id, 10)\n",
    "    if print_output:\n",
    "        print('Closest to %s : \\n' % movielens['item_labels'][movie_id])\n",
    "    titles = [movielens['item_labels'][i] for i in nn]\n",
    "    if print_output:\n",
    "        print(\"\\n\".join(titles))"
   ]
  },
  {
   "cell_type": "code",
   "execution_count": 11,
   "metadata": {},
   "outputs": [
    {
     "name": "stdout",
     "output_type": "stream",
     "text": [
      "Closest to Nightmare Before Christmas, The (1993) : \n",
      "\n",
      "Nightmare Before Christmas, The (1993)\n",
      "Fantasia (1940)\n",
      "Heavy Metal (1981)\n",
      "Aladdin (1992)\n",
      "Beauty and the Beast (1991)\n",
      "Bram Stoker's Dracula (1992)\n",
      "Akira (1988)\n",
      "Pink Floyd - The Wall (1982)\n",
      "E.T. the Extra-Terrestrial (1982)\n",
      "Batman (1989)\n"
     ]
    }
   ],
   "source": [
    "nearest_movies_Annoy(90, t)"
   ]
  },
  {
   "cell_type": "markdown",
   "metadata": {},
   "source": [
    "Not bad, and it's very quick:"
   ]
  },
  {
   "cell_type": "code",
   "execution_count": 12,
   "metadata": {},
   "outputs": [
    {
     "name": "stdout",
     "output_type": "stream",
     "text": [
      "The slowest run took 5.45 times longer than the fastest. This could mean that an intermediate result is being cached.\n",
      "100000 loops, best of 3: 15.4 µs per loop\n"
     ]
    }
   ],
   "source": [
    "%%timeit\n",
    "nearest_movies_Annoy(90, t, print_output=False)"
   ]
  },
  {
   "cell_type": "markdown",
   "metadata": {},
   "source": [
    "How about NMSlib?"
   ]
  },
  {
   "cell_type": "code",
   "execution_count": 13,
   "metadata": {},
   "outputs": [],
   "source": [
    "import nmslib\n",
    "\n",
    "# initialize a new nmslib index, using a HNSW index on Cosine Similarity\n",
    "nms_idx = nmslib.init(method='hnsw', space='cosinesimil')\n",
    "nms_idx.addDataPointBatch(item_vectors)\n",
    "nms_idx.createIndex({'post': 2}, print_progress=True)"
   ]
  },
  {
   "cell_type": "code",
   "execution_count": 14,
   "metadata": {
    "collapsed": true
   },
   "outputs": [],
   "source": [
    "def nearest_movies_nms(movie_id, index, n=10, print_output=True):\n",
    "    nn = index.knnQuery(item_vectors[movie_id], k=10)\n",
    "    if print_output == True:\n",
    "        print('Closest to %s : \\n' % movielens['item_labels'][movie_id])\n",
    "    titles = [movielens['item_labels'][i] for i in nn[0]]\n",
    "    if print_output == True:\n",
    "        print(\"\\n\".join(titles))"
   ]
  },
  {
   "cell_type": "code",
   "execution_count": 15,
   "metadata": {},
   "outputs": [
    {
     "name": "stdout",
     "output_type": "stream",
     "text": [
      "Closest to Nightmare Before Christmas, The (1993) : \n",
      "\n",
      "Nightmare Before Christmas, The (1993)\n",
      "Fantasia (1940)\n",
      "Heavy Metal (1981)\n",
      "Aladdin (1992)\n",
      "Beauty and the Beast (1991)\n",
      "Bram Stoker's Dracula (1992)\n",
      "Akira (1988)\n",
      "Pink Floyd - The Wall (1982)\n",
      "E.T. the Extra-Terrestrial (1982)\n",
      "Batman (1989)\n"
     ]
    }
   ],
   "source": [
    "nearest_movies_nms(90, nms_idx, n=10)"
   ]
  },
  {
   "cell_type": "code",
   "execution_count": 16,
   "metadata": {},
   "outputs": [
    {
     "name": "stdout",
     "output_type": "stream",
     "text": [
      "The slowest run took 7.89 times longer than the fastest. This could mean that an intermediate result is being cached.\n",
      "10000 loops, best of 3: 21.5 µs per loop\n"
     ]
    }
   ],
   "source": [
    "%%timeit \n",
    "nearest_movies_nms(90, nms_idx, n=10, print_output=False)"
   ]
  },
  {
   "cell_type": "markdown",
   "metadata": {},
   "source": [
    "<p>Again, good and maybe a little better, and also very fast. Now we'll do an Annoy example showing how we can do user recommendations using a neat trick outlined by the Xbox recomendations team: https://www.microsoft.com/en-us/research/wp-content/uploads/2016/02/XboxInnerProduct.pdf . Thanks to Ben Fredrickson https://github.com/benfred/ for bringing this one to light.</p>\n",
    "\n",
    "<p>Basically we add a nomalizing factor to each item vector - making their distances equal with each other. Then when we query with a user vector, we add a 0 to the end, and the result is proportional to the inner producct of the user and item vectors. This is a sneaky way to do an aproximate maximum inner product search."
   ]
  },
  {
   "cell_type": "code",
   "execution_count": 17,
   "metadata": {},
   "outputs": [
    {
     "data": {
      "text/plain": [
       "True"
      ]
     },
     "execution_count": 17,
     "metadata": {},
     "output_type": "execute_result"
    }
   ],
   "source": [
    "norms = np.linalg.norm(item_vectors, axis=1)\n",
    "max_norm = norms.max()\n",
    "extra_dimension = np.sqrt(max_norm ** 2 - norms ** 2)\n",
    "norm_data = np.append(item_vectors, extra_dimension.reshape(norms.shape[0], 1), axis=1)\n",
    "\n",
    "f_member = norm_data.shape[1]\n",
    "t_member = AnnoyIndex(f_member)  # Length of item vector that will be indexed\n",
    "\n",
    "for i in range(norm_data.shape[0]):\n",
    "    v = norm_data[i]\n",
    "    t_member.add_item(i, v)\n",
    "    \n",
    "t_member.build(10)"
   ]
  },
  {
   "cell_type": "code",
   "execution_count": 19,
   "metadata": {},
   "outputs": [],
   "source": [
    "# Define our user vectors\n",
    "\n",
    "user_vectors = model.get_user_representations()[1]"
   ]
  },
  {
   "cell_type": "markdown",
   "metadata": {},
   "source": [
    "<h4>Now we can query as per the standard LightFM example.</h4>"
   ]
  },
  {
   "cell_type": "code",
   "execution_count": 20,
   "metadata": {},
   "outputs": [],
   "source": [
    "def sample_recommendation(user_ids, model, data, n_items=10, print_output=True):\n",
    "    n_users, n_items = data['train'].shape\n",
    "\n",
    "    for user_id in user_ids:\n",
    "        known_positives = data['item_labels'][data['train'].tocsr()[user_id].indices]\n",
    "        top_items = [data['item_labels'][i] for i in t_member.get_nns_by_vector(np.append(user_vectors[user_id], 0), 50)]\n",
    "        if print_output == True:\n",
    "            print(\"User %s\" % user_id)\n",
    "            print(\"     Known positives:\")\n",
    "\n",
    "            for x in known_positives[:3]:\n",
    "                print(\"        %s\" % x)\n",
    "\n",
    "            print(\"     Recommended:\")\n",
    "\n",
    "            for x in top_items[:3]:\n",
    "                print(\"        %s\" % x)"
   ]
  },
  {
   "cell_type": "code",
   "execution_count": 21,
   "metadata": {},
   "outputs": [
    {
     "name": "stdout",
     "output_type": "stream",
     "text": [
      "User 3\n",
      "     Known positives:\n",
      "        Seven (Se7en) (1995)\n",
      "        Indiana Jones and the Last Crusade (1989)\n",
      "        Contact (1997)\n",
      "     Recommended:\n",
      "        Air Force One (1997)\n",
      "        Scream (1996)\n",
      "        Cop Land (1997)\n",
      "User 25\n",
      "     Known positives:\n",
      "        Toy Story (1995)\n",
      "        Twelve Monkeys (1995)\n",
      "        Dead Man Walking (1995)\n",
      "     Recommended:\n",
      "        Independence Day (ID4) (1996)\n",
      "        Men in Black (1997)\n",
      "        Mission: Impossible (1996)\n",
      "User 450\n",
      "     Known positives:\n",
      "        Kolya (1996)\n",
      "        Devil's Own, The (1997)\n",
      "        Contact (1997)\n",
      "     Recommended:\n",
      "        Murder at 1600 (1997)\n",
      "        Cop Land (1997)\n",
      "        Leave It to Beaver (1997)\n"
     ]
    }
   ],
   "source": [
    "sample_recommendation([3,25,450], model, movielens, print_output=True)"
   ]
  },
  {
   "cell_type": "markdown",
   "metadata": {},
   "source": [
    "<h4>Compare this to the original, non-ANN version here:</h4>"
   ]
  },
  {
   "cell_type": "code",
   "execution_count": 22,
   "metadata": {},
   "outputs": [],
   "source": [
    "def sample_recommendation_original(model, data, user_ids, print_output=True):\n",
    "\n",
    "    n_users, n_items = data['train'].shape\n",
    "\n",
    "    for user_id in user_ids:\n",
    "        known_positives = data['item_labels'][data['train'].tocsr()[user_id].indices]\n",
    "        scores = model.predict(user_id, np.arange(n_items))\n",
    "        top_items = data['item_labels'][np.argsort(-scores)]\n",
    "        if print_output == True:\n",
    "            print(\"User %s\" % user_id)\n",
    "            print(\"     Known positives:\")\n",
    "\n",
    "            for x in known_positives[:3]:\n",
    "                print(\"        %s\" % x)\n",
    "\n",
    "            print(\"     Recommended:\")\n",
    "\n",
    "            for x in top_items[:3]:\n",
    "                print(\"        %s\" % x)"
   ]
  },
  {
   "cell_type": "code",
   "execution_count": 23,
   "metadata": {},
   "outputs": [
    {
     "name": "stdout",
     "output_type": "stream",
     "text": [
      "User 3\n",
      "     Known positives:\n",
      "        Seven (Se7en) (1995)\n",
      "        Indiana Jones and the Last Crusade (1989)\n",
      "        Contact (1997)\n",
      "     Recommended:\n",
      "        Air Force One (1997)\n",
      "        Scream (1996)\n",
      "        Contact (1997)\n",
      "User 25\n",
      "     Known positives:\n",
      "        Toy Story (1995)\n",
      "        Twelve Monkeys (1995)\n",
      "        Dead Man Walking (1995)\n",
      "     Recommended:\n",
      "        Independence Day (ID4) (1996)\n",
      "        Star Wars (1977)\n",
      "        Fargo (1996)\n",
      "User 450\n",
      "     Known positives:\n",
      "        Kolya (1996)\n",
      "        Devil's Own, The (1997)\n",
      "        Contact (1997)\n",
      "     Recommended:\n",
      "        Murder at 1600 (1997)\n",
      "        Scream (1996)\n",
      "        Cop Land (1997)\n"
     ]
    }
   ],
   "source": [
    "sample_recommendation_original(model, movielens, [3, 25, 450])"
   ]
  },
  {
   "cell_type": "markdown",
   "metadata": {},
   "source": [
    "So pretty similar! How about speed?"
   ]
  },
  {
   "cell_type": "code",
   "execution_count": 24,
   "metadata": {},
   "outputs": [
    {
     "name": "stdout",
     "output_type": "stream",
     "text": [
      "100 loops, best of 3: 3.85 ms per loop\n"
     ]
    }
   ],
   "source": [
    "%%timeit\n",
    "sample_recommendation_original(model, movielens, [3, 25, 450], print_output=False)"
   ]
  },
  {
   "cell_type": "code",
   "execution_count": 25,
   "metadata": {},
   "outputs": [
    {
     "name": "stdout",
     "output_type": "stream",
     "text": [
      "The slowest run took 5.66 times longer than the fastest. This could mean that an intermediate result is being cached.\n",
      "100 loops, best of 3: 2.55 ms per loop\n"
     ]
    }
   ],
   "source": [
    "%%timeit\n",
    "sample_recommendation([3,25,450], model, movielens, print_output=False)"
   ]
  },
  {
   "cell_type": "markdown",
   "metadata": {},
   "source": [
    "So a small difference at thes volumes, but let's see how it compares to an sklearn distance method as n increases:"
   ]
  },
  {
   "cell_type": "code",
   "execution_count": 31,
   "metadata": {},
   "outputs": [],
   "source": [
    "def recommend_item_for_item(item_vecotrs):\n",
    "    distances = pairwise_distances(item_vectors[0].reshape(1, -1), Y=item_vectors)\n",
    "    top_items = distances.argsort()[:10]\n",
    "    return top_items\n",
    "\n",
    "def time_recommend_item_for_item():\n",
    "    start = time.time()\n",
    "    recommend_item_for_item(item_vectors)\n",
    "    end = time.time()\n",
    "    return end - start\n",
    "\n",
    "def time_Annoy_recommend_item_for_item():\n",
    "    start = time.time()\n",
    "    temp_t.get_nns_by_vector(item_vectors[0], 10)\n",
    "    end = time.time()\n",
    "    return end - start\n",
    "\n",
    "def time_nms_recommend_item_for_item():\n",
    "    start = time.time()\n",
    "    nms_idx.knnQuery(item_vectors[0])[0]\n",
    "    end = time.time()\n",
    "    return end - start\n",
    "\n",
    "Annoy_response_times = []\n",
    "pairwise_response_times = []\n",
    "nms_response_times = []\n",
    "\n",
    "f = item_vectors.shape[1]\n",
    "\n",
    "for i in range (1, 500, 50):\n",
    "    \n",
    "    #Pairwise\n",
    "    \n",
    "    data = np.repeat(item_vectors, i, axis=0)   \n",
    "    pairwise_response_times.append(time_recommend_item_for_item())\n",
    "    \n",
    "    #NMS lib\n",
    "    \n",
    "    nms_idx = nmslib.init(method='hnsw', space='cosinesimil')\n",
    "    nms_idx.addDataPointBatch(data)\n",
    "    nms_idx.createIndex({'post': 2}, print_progress=False)\n",
    "    nms_response_times.append(time_nms_recommend_item_for_item())  \n",
    "    \n",
    "    #Annoy\n",
    "    \n",
    "    temp_idx = AnnoyIndex(f)\n",
    "    temp_t = AnnoyIndex(f)  \n",
    "    for i in range(data.shape[0]):\n",
    "        v = data[i]\n",
    "        temp_t.add_item(i, v)\n",
    "    temp_t.build(10) # 10 trees\n",
    "    Annoy_response_times.append(time_Annoy_recommend_item_for_item())    "
   ]
  },
  {
   "cell_type": "code",
   "execution_count": 34,
   "metadata": {
    "scrolled": true
   },
   "outputs": [
    {
     "data": {
      "image/png": "[encoded data removed]",
      "text/plain": [
       "<matplotlib.figure.Figure at 0x7faeff5e7190>"
      ]
     },
     "metadata": {},
     "output_type": "display_data"
    }
   ],
   "source": [
    "import matplotlib.pyplot as plt\n",
    "import numpy as np\n",
    "\n",
    "x = np.arange(10)\n",
    "x = (x*10) * 1681\n",
    "plt.figure(figsize=(12,6))\n",
    "plt.plot(x, pairwise_response_times)\n",
    "plt.plot(x, Annoy_response_times[:10])\n",
    "plt.plot(x, nms_response_times)\n",
    "plt.title('Response time from nearest neighbours query')\n",
    "plt.legend(['Pairwise dist.', 'Annoy', 'nms'], loc='upper left')\n",
    "plt.xlabel('Number of vectors')\n",
    "plt.ylabel('Avg. response time (ms)')\n",
    "plt.yscale('log')\n",
    "plt.show()"
   ]
  },
  {
   "cell_type": "markdown",
   "metadata": {},
   "source": [
    "<h3>So, should you use one of these libraries?</h3>\n",
    "\n",
    "On a smaller dataset, it's not worth the hassle and loss of accuracy for a small increase in speed. However, if you need to respond in < 100ms, then your vector set can only grow so large before you'll need to start thinking about one of these libraries. \n",
    "\n",
    "Annoy has the advantage of saving to a memory map, and so playing well with multiple processes in a production environment\n",
    "\n",
    "NMSlib has generally been shown to outperform Annoy in terms of speed and accuracy, but I also found that constructing indexes over a large dataset was quite slow. This becomes a problem if you have to rebuild your index frequently because of fast moving product catalogues etc. "
   ]
  },
  {
   "cell_type": "code",
   "execution_count": null,
   "metadata": {
    "collapsed": true
   },
   "outputs": [],
   "source": []
  }
 ],
 "metadata": {
  "kernelspec": {
   "display_name": "Python 2",
   "language": "python",
   "name": "python2"
  },
  "language_info": {
   "codemirror_mode": {
    "name": "ipython",
    "version": 2
   },
   "file_extension": ".py",
   "mimetype": "text/x-python",
   "name": "python",
   "nbconvert_exporter": "python",
   "pygments_lexer": "ipython2",
   "version": "2.7.12"
  }
 },
 "nbformat": 4,
 "nbformat_minor": 1
}
